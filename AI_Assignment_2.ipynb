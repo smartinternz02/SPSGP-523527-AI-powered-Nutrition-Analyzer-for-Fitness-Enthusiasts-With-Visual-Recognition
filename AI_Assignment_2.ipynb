{
  "nbformat": 4,
  "nbformat_minor": 0,
  "metadata": {
    "colab": {
      "provenance": [],
      "gpuType": "T4"
    },
    "kernelspec": {
      "name": "python3",
      "display_name": "Python 3"
    },
    "language_info": {
      "name": "python"
    },
    "accelerator": "GPU"
  },
  "cells": [
    {
      "cell_type": "code",
      "execution_count": null,
      "metadata": {
        "id": "Srk1_mQhyA29"
      },
      "outputs": [],
      "source": [
        "# AI Assignment 2\n",
        "# Build an ANN model for Drug classification.\n",
        "# This project aims to analyze the relationship between various medical parameters and drug effectiveness. The dataset consists of patient information,\n",
        "# including age, sex, blood pressure levels (BP), cholesterol levels, sodium-to-potassium ratio (Na_to_K), drug type, and corresponding labels. The goal is to\n",
        "# develop a model that can accurately predict the class or category of a given drug based on its features.\n",
        "# Dataset Link: https://www.kaggle.com/datasets/prathamtripathi/drug-classification\n",
        "# Task 1: Read the dataset and do data pre-processing\n",
        "# Task 2: Build the ANN model with (input layer, min 3 hidden layers & output layer)\n",
        "# Task 3: Test the model with random data"
      ]
    },
    {
      "cell_type": "code",
      "source": [
        "import pandas as pd\n",
        "import numpy as np\n",
        "from sklearn.model_selection import train_test_split\n",
        "from sklearn.preprocessing import LabelEncoder, StandardScaler\n",
        "from keras.models import Sequential\n",
        "from keras.layers import Dense\n",
        "import tensorflow as tf\n",
        "import tensorflow_hub as hub\n",
        "import tensorflow_datasets as tfds\n",
        "from tensorflow.keras import layers\n",
        "#!pip install --upgrade tensorflow\n",
        "tf.config.run_functions_eagerly(True)"
      ],
      "metadata": {
        "id": "TJ-GHK-kyHi8"
      },
      "execution_count": null,
      "outputs": []
    },
    {
      "cell_type": "code",
      "source": [
        "data = pd.read_csv(\"drug200.csv\")\n",
        "\n",
        "# Split the features and labels\n",
        "X = data.drop('Drug', axis=1)\n",
        "y = data['Drug']\n",
        "\n",
        "# Perform label encoding on the categorical variables\n",
        "label_encoder = LabelEncoder()\n",
        "X['Sex'] = label_encoder.fit_transform(X['Sex'])\n",
        "\n",
        "y_train_encoded = label_encoder.fit_transform(y_train)\n",
        "# Perform one-hot encoding on the 'BP' and 'Cholesterol' variables\n",
        "X = pd.get_dummies(X, columns=['BP', 'Cholesterol'])\n",
        "\n",
        "# Split the data into training and testing sets\n",
        "X_train, X_test, y_train, y_test = train_test_split(X, y, test_size=0.2, random_state=42)\n",
        "\n",
        "# Perform feature scaling on the numerical variables\n",
        "scaler = StandardScaler()\n",
        "X_train = scaler.fit_transform(X_train)\n",
        "X_test = scaler.transform(X_test)\n"
      ],
      "metadata": {
        "id": "F1jgrndQ1kHw"
      },
      "execution_count": null,
      "outputs": []
    },
    {
      "cell_type": "code",
      "source": [
        "model = Sequential()\n",
        "model.add(Dense(64, activation='relu', input_dim=X_train.shape[1]))\n",
        "model.add(Dense(32, activation='relu'))\n",
        "model.add(Dense(16, activation='relu'))\n",
        "model.add(Dense(5, activation='softmax'))\n",
        "\n",
        "# Compile the model\n",
        "model.compile(optimizer='adam', loss='sparse_categorical_crossentropy', metrics=['accuracy'])\n",
        "\n",
        "# Train the model\n",
        "model.fit(X_train, y_train_encoded, epochs=10, batch_size=32, validation_split=0.2)"
      ],
      "metadata": {
        "colab": {
          "base_uri": "https://localhost:8080/"
        },
        "id": "G90uTDC716ZW",
        "outputId": "4f6f4c1a-eeb1-431a-a2b4-dc12720ce36c"
      },
      "execution_count": null,
      "outputs": [
        {
          "output_type": "stream",
          "name": "stdout",
          "text": [
            "Epoch 1/10\n",
            "3/4 [=====================>........] - ETA: 0s - loss: 1.6545 - accuracy: 0.2188"
          ]
        },
        {
          "output_type": "stream",
          "name": "stderr",
          "text": [
            "/usr/local/lib/python3.10/dist-packages/tensorflow/python/data/ops/structured_function.py:254: UserWarning: Even though the `tf.config.experimental_run_functions_eagerly` option is set, this option does not apply to tf.data functions. To force eager execution of tf.data functions, please use `tf.data.experimental.enable_debug_mode()`.\n",
            "  warnings.warn(\n"
          ]
        },
        {
          "output_type": "stream",
          "name": "stdout",
          "text": [
            "4/4 [==============================] - 0s 67ms/step - loss: 1.6376 - accuracy: 0.2422 - val_loss: 1.5009 - val_accuracy: 0.4375\n",
            "Epoch 2/10\n",
            "4/4 [==============================] - 0s 57ms/step - loss: 1.5628 - accuracy: 0.3984 - val_loss: 1.4491 - val_accuracy: 0.5625\n",
            "Epoch 3/10\n",
            "4/4 [==============================] - 0s 49ms/step - loss: 1.4948 - accuracy: 0.5781 - val_loss: 1.4003 - val_accuracy: 0.7812\n",
            "Epoch 4/10\n",
            "4/4 [==============================] - 0s 51ms/step - loss: 1.4371 - accuracy: 0.6406 - val_loss: 1.3507 - val_accuracy: 0.7812\n",
            "Epoch 5/10\n",
            "4/4 [==============================] - 0s 52ms/step - loss: 1.3835 - accuracy: 0.6719 - val_loss: 1.3007 - val_accuracy: 0.7812\n",
            "Epoch 6/10\n",
            "4/4 [==============================] - 0s 49ms/step - loss: 1.3282 - accuracy: 0.7031 - val_loss: 1.2479 - val_accuracy: 0.7500\n",
            "Epoch 7/10\n",
            "4/4 [==============================] - 0s 48ms/step - loss: 1.2663 - accuracy: 0.7344 - val_loss: 1.1978 - val_accuracy: 0.7188\n",
            "Epoch 8/10\n",
            "4/4 [==============================] - 0s 49ms/step - loss: 1.2087 - accuracy: 0.7344 - val_loss: 1.1430 - val_accuracy: 0.7188\n",
            "Epoch 9/10\n",
            "4/4 [==============================] - 0s 49ms/step - loss: 1.1444 - accuracy: 0.7422 - val_loss: 1.0864 - val_accuracy: 0.7188\n",
            "Epoch 10/10\n",
            "4/4 [==============================] - 0s 55ms/step - loss: 1.0811 - accuracy: 0.7422 - val_loss: 1.0321 - val_accuracy: 0.7188\n"
          ]
        },
        {
          "output_type": "execute_result",
          "data": {
            "text/plain": [
              "<keras.callbacks.History at 0x7fc910249d80>"
            ]
          },
          "metadata": {},
          "execution_count": 17
        }
      ]
    },
    {
      "cell_type": "code",
      "source": [
        "random_data = np.array([[45, 0, 120, 80, 0.9, 1, 0, 1]])\n",
        "\n",
        "# Scale the random data using the same scaler\n",
        "random_data_scaled = scaler.transform(random_data)\n",
        "\n",
        "# Make predictions on the random data\n",
        "predictions = model.predict(random_data_scaled)\n",
        "predicted_class = np.argmax(predictions, axis=1)\n",
        "predicted_drug = label_encoder.inverse_transform(predicted_class)\n",
        "\n",
        "print(\"Predicted Drug:\", predicted_drug)"
      ],
      "metadata": {
        "colab": {
          "base_uri": "https://localhost:8080/"
        },
        "id": "UeSfbser6h-Y",
        "outputId": "71618b46-7b94-47d6-9493-0e3660a47a84"
      },
      "execution_count": null,
      "outputs": [
        {
          "output_type": "stream",
          "name": "stdout",
          "text": [
            "1/1 [==============================] - 0s 24ms/step\n",
            "Predicted Drug: ['drugA']\n"
          ]
        },
        {
          "output_type": "stream",
          "name": "stderr",
          "text": [
            "/usr/local/lib/python3.10/dist-packages/sklearn/base.py:439: UserWarning: X does not have valid feature names, but StandardScaler was fitted with feature names\n",
            "  warnings.warn(\n",
            "/usr/local/lib/python3.10/dist-packages/tensorflow/python/data/ops/structured_function.py:254: UserWarning: Even though the `tf.config.experimental_run_functions_eagerly` option is set, this option does not apply to tf.data functions. To force eager execution of tf.data functions, please use `tf.data.experimental.enable_debug_mode()`.\n",
            "  warnings.warn(\n"
          ]
        }
      ]
    }
  ]
}