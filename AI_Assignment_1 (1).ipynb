{
  "nbformat": 4,
  "nbformat_minor": 0,
  "metadata": {
    "colab": {
      "provenance": []
    },
    "kernelspec": {
      "name": "python3",
      "display_name": "Python 3"
    },
    "language_info": {
      "name": "python"
    }
  },
  "cells": [
    {
      "cell_type": "code",
      "execution_count": null,
      "metadata": {
        "id": "k8ozLbWRJshK"
      },
      "outputs": [],
      "source": [
        "#Create a pandas dataframe (DataFrame name as 'df') with numpy random values (4 features and 4 observation)"
      ]
    },
    {
      "cell_type": "code",
      "source": [
        "import pandas as pd\n",
        "import numpy as np\n",
        "\n",
        "data = np.random.rand(4, 4)\n",
        "df = pd.DataFrame(data, columns=['Feature1', 'Feature2', 'Feature3', 'Feature4'])\n",
        "print(df)"
      ],
      "metadata": {
        "colab": {
          "base_uri": "https://localhost:8080/"
        },
        "id": "cWfJQFy1J02H",
        "outputId": "d152b7bc-01d5-46ec-f432-5df4599eac15"
      },
      "execution_count": null,
      "outputs": [
        {
          "output_type": "stream",
          "name": "stdout",
          "text": [
            "   Feature1  Feature2  Feature3  Feature4\n",
            "0  0.966422  0.036705  0.864090  0.545106\n",
            "1  0.392254  0.771650  0.052906  0.813661\n",
            "2  0.667415  0.564750  0.031938  0.124948\n",
            "3  0.938794  0.588909  0.426344  0.466295\n"
          ]
        }
      ]
    },
    {
      "cell_type": "code",
      "source": [
        "#Rename the task - 1 'df' dataframe column names to 'Random value 1', 'Random value 2', 'Random value 3' & 'Random value 4'"
      ],
      "metadata": {
        "id": "W7QhoES4KVcv"
      },
      "execution_count": null,
      "outputs": []
    },
    {
      "cell_type": "code",
      "source": [
        "df = df.rename(columns={'Feature1':'Random Value 1', 'Feature2':'Random Value 2', 'Feature3':'Random Value 3', 'Feature4':'Random Value 4'})\n",
        "print(df)"
      ],
      "metadata": {
        "colab": {
          "base_uri": "https://localhost:8080/"
        },
        "id": "N_pcMFnuKrbg",
        "outputId": "db5a3a42-b380-4c34-e651-31ebad9793d8"
      },
      "execution_count": null,
      "outputs": [
        {
          "output_type": "stream",
          "name": "stdout",
          "text": [
            "   Random Value 1  Random Value 2  Random Value 3  Random Value 4\n",
            "0        0.966422        0.036705        0.864090        0.545106\n",
            "1        0.392254        0.771650        0.052906        0.813661\n",
            "2        0.667415        0.564750        0.031938        0.124948\n",
            "3        0.938794        0.588909        0.426344        0.466295\n"
          ]
        }
      ]
    },
    {
      "cell_type": "code",
      "source": [
        "#Find the descriptive statistics of the 'df' dataframe."
      ],
      "metadata": {
        "id": "b42q36mWLN_X"
      },
      "execution_count": null,
      "outputs": []
    },
    {
      "cell_type": "code",
      "source": [
        "stats = df.describe()\n",
        "print(stats)"
      ],
      "metadata": {
        "colab": {
          "base_uri": "https://localhost:8080/"
        },
        "id": "ki2ROWeHLOR9",
        "outputId": "6f5ff04a-4b81-45b3-c948-0519e378185f"
      },
      "execution_count": null,
      "outputs": [
        {
          "output_type": "stream",
          "name": "stdout",
          "text": [
            "       Random Value 1  Random Value 2  Random Value 3  Random Value 4\n",
            "count        4.000000        4.000000        4.000000        4.000000\n",
            "mean         0.741221        0.490504        0.343819        0.487503\n",
            "std          0.268934        0.316319        0.391320        0.283780\n",
            "min          0.392254        0.036705        0.031938        0.124948\n",
            "25%          0.598625        0.432739        0.047664        0.380958\n",
            "50%          0.803104        0.576829        0.239625        0.505701\n",
            "75%          0.945701        0.634594        0.535780        0.612245\n",
            "max          0.966422        0.771650        0.864090        0.813661\n"
          ]
        }
      ]
    },
    {
      "cell_type": "code",
      "source": [
        "#Check for the null values in 'df' and find the data type of the columns."
      ],
      "metadata": {
        "id": "UqFHkYczLjE1"
      },
      "execution_count": null,
      "outputs": []
    },
    {
      "cell_type": "code",
      "source": [
        "null_values = df.isnull()\n",
        "\n",
        "data_types = df.dtypes\n",
        "\n",
        "print(\"Null Values:\")\n",
        "print(null_values)\n",
        "print(\"\\nData Types:\")\n",
        "print(data_types)"
      ],
      "metadata": {
        "colab": {
          "base_uri": "https://localhost:8080/"
        },
        "id": "0BKzCIrcLjL-",
        "outputId": "22ff4a4b-eb29-4ec9-f6fc-dda70a69d135"
      },
      "execution_count": null,
      "outputs": [
        {
          "output_type": "stream",
          "name": "stdout",
          "text": [
            "Null Values:\n",
            "   Random Value 1  Random Value 2  Random Value 3  Random Value 4\n",
            "0           False           False           False           False\n",
            "1           False           False           False           False\n",
            "2           False           False           False           False\n",
            "3           False           False           False           False\n",
            "\n",
            "Data Types:\n",
            "Random Value 1    float64\n",
            "Random Value 2    float64\n",
            "Random Value 3    float64\n",
            "Random Value 4    float64\n",
            "dtype: object\n"
          ]
        }
      ]
    },
    {
      "cell_type": "code",
      "source": [
        "#Display the 'Random value 2' & 'Random value 3' columns with location method and index location method."
      ],
      "metadata": {
        "id": "L5tAkj4yL2m-"
      },
      "execution_count": null,
      "outputs": []
    },
    {
      "cell_type": "code",
      "source": [
        "loc_columns = df.loc[:, ['Random Value 2', 'Random Value 3']]\n",
        "print(\"Columns using loc:\")\n",
        "print(loc_columns)\n",
        "\n",
        "iloc_columns = df.iloc[:, [1, 2]]\n",
        "print(\"\\nColumns using iloc:\")\n",
        "print(iloc_columns)"
      ],
      "metadata": {
        "colab": {
          "base_uri": "https://localhost:8080/"
        },
        "id": "ZI-eZHB1MMY0",
        "outputId": "b7e32c06-6f3e-49c6-ccf7-4a93e970fd49"
      },
      "execution_count": null,
      "outputs": [
        {
          "output_type": "stream",
          "name": "stdout",
          "text": [
            "Columns using loc:\n",
            "   Random Value 2  Random Value 3\n",
            "0        0.036705        0.864090\n",
            "1        0.771650        0.052906\n",
            "2        0.564750        0.031938\n",
            "3        0.588909        0.426344\n",
            "\n",
            "Columns using iloc:\n",
            "   Random Value 2  Random Value 3\n",
            "0        0.036705        0.864090\n",
            "1        0.771650        0.052906\n",
            "2        0.564750        0.031938\n",
            "3        0.588909        0.426344\n"
          ]
        }
      ]
    }
  ]
}